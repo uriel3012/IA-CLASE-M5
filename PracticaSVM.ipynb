{
 "cells": [
  {
   "cell_type": "markdown",
   "metadata": {},
   "source": [
    "\n",
    "# Implementacion de SVM con Scikit-Learn"
   ]
  },
  {
   "cell_type": "markdown",
   "metadata": {},
   "source": [
    "El algoritmo se encarga de predecir o determinar si un billete de banco es autentico en base a 4 atributos del billete: asimetria de la imagen transformada en avelets, la varianza de la imagen, la entropoa de la imagen y la curtosis de la imagen. Este es el problema de clasificacion binaria y usaremos el algoritmo SVM para resolver este problema. El resto de la seccion consiste en pasos estandar de aprendizaje automatico."
   ]
  },
  {
   "cell_type": "markdown",
   "metadata": {},
   "source": [
    "##  Uriel Antonio Alvarez Chavez 16111783"
   ]
  },
  {
   "cell_type": "markdown",
   "metadata": {},
   "source": [
    "### Importar las librerias necesarias"
   ]
  },
  {
   "cell_type": "code",
   "execution_count": 1,
   "metadata": {},
   "outputs": [],
   "source": [
    "import pandas as pd\n",
    "import numpy as np\n",
    "import matplotlib.pyplot as plt\n",
    "%matplotlib inline"
   ]
  },
  {
   "cell_type": "markdown",
   "metadata": {},
   "source": [
    "### Importamos datos del CSV"
   ]
  },
  {
   "cell_type": "code",
   "execution_count": 8,
   "metadata": {},
   "outputs": [],
   "source": [
    "bankdata = pd.read_csv('bill_authentication.csv')"
   ]
  },
  {
   "cell_type": "markdown",
   "metadata": {},
   "source": [
    "### Visualizamos los datos cargados para verificar que se cargo correctamenta"
   ]
  },
  {
   "cell_type": "code",
   "execution_count": 9,
   "metadata": {},
   "outputs": [
    {
     "name": "stdout",
     "output_type": "stream",
     "text": [
      "      Variance  Skewness  Curtosis  Entropy  Class\n",
      "0      3.62160   8.66610   -2.8073 -0.44699      0\n",
      "1      4.54590   8.16740   -2.4586 -1.46210      0\n",
      "2      3.86600  -2.63830    1.9242  0.10645      0\n",
      "3      3.45660   9.52280   -4.0112 -3.59440      0\n",
      "4      0.32924  -4.45520    4.5718 -0.98880      0\n",
      "...        ...       ...       ...      ...    ...\n",
      "1367   0.40614   1.34920   -1.4501 -0.55949      1\n",
      "1368  -1.38870  -4.87730    6.4774  0.34179      1\n",
      "1369  -3.75030 -13.45860   17.5932 -2.77710      1\n",
      "1370  -3.56370  -8.38270   12.3930 -1.28230      1\n",
      "1371  -2.54190  -0.65804    2.6842  1.19520      1\n",
      "\n",
      "[1372 rows x 5 columns]\n"
     ]
    }
   ],
   "source": [
    "print(bankdata)"
   ]
  },
  {
   "cell_type": "markdown",
   "metadata": {},
   "source": [
    "### Muestra la cantidad de registros y columnas del documento CSV"
   ]
  },
  {
   "cell_type": "code",
   "execution_count": 11,
   "metadata": {},
   "outputs": [
    {
     "data": {
      "text/plain": [
       "(1372, 5)"
      ]
     },
     "execution_count": 11,
     "metadata": {},
     "output_type": "execute_result"
    }
   ],
   "source": [
    "bankdata.shape"
   ]
  },
  {
   "cell_type": "code",
   "execution_count": null,
   "metadata": {},
   "outputs": [],
   "source": []
  }
 ],
 "metadata": {
  "kernelspec": {
   "display_name": "Python 3",
   "language": "python",
   "name": "python3"
  },
  "language_info": {
   "codemirror_mode": {
    "name": "ipython",
    "version": 3
   },
   "file_extension": ".py",
   "mimetype": "text/x-python",
   "name": "python",
   "nbconvert_exporter": "python",
   "pygments_lexer": "ipython3",
   "version": "3.7.6"
  }
 },
 "nbformat": 4,
 "nbformat_minor": 4
}
