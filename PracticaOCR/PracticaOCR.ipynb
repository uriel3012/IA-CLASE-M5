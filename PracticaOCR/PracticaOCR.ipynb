{
 "cells": [
  {
   "cell_type": "markdown",
   "metadata": {},
   "source": [
    "## Vision Artificial: Character recognition (OCR)\n",
    "\n",
    "### Uriel Antonio Alvarez Chavez\n",
    "\n",
    "Hacer que la computadora tenga ojos no es tarea facil. Si, puedes tomar una camar web, pero eso no signifia que la computadora pueda analizar lo que esta viendo.\n",
    "\n",
    "Los acontecimientos recientes hicieron avanzr el campo. Con la tecnologia Deep Learning ahora pueden hacer observacionde basicas de diferentes objetos en muchas posiciones diferentes.\n",
    "\n",
    "Entonces, si no sabes nada sobre el aprendizaje profundo o las redes neuronales, Como comienzas en le campo de la vision por computadora?\n",
    "\n",
    "Por supuesto, no puede comenzar con los conceptos mas complicados y trabajar hacia atras. Tienes que empezar por lo basico.\n",
    "\n",
    "En el nivel mas basico, puede hacer reconocimiento de patrones. Para reucir la complejida, recomiendo comenzar aprendiendo Python en lugar de C++.\n",
    "\n",
    "El reconocimiento de caracteres (OCR) es una tarea muy basica de Vision Artificial.\n",
    "\n",
    "### OCR con Python\n",
    "\n",
    "El siguiente codigo traducira el texto de la imagen a texto en la termina."
   ]
  }
 ],
 "metadata": {
  "kernelspec": {
   "display_name": "Python 3",
   "language": "python",
   "name": "python3"
  },
  "language_info": {
   "codemirror_mode": {
    "name": "ipython",
    "version": 3
   },
   "file_extension": ".py",
   "mimetype": "text/x-python",
   "name": "python",
   "nbconvert_exporter": "python",
   "pygments_lexer": "ipython3",
   "version": "3.7.7"
  }
 },
 "nbformat": 4,
 "nbformat_minor": 4
}
