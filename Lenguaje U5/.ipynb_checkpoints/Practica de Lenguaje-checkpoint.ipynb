{
 "cells": [
  {
   "cell_type": "markdown",
   "metadata": {},
   "source": [
    "## Uriel Antonio Alvarez Chavez 16111783"
   ]
  },
  {
   "cell_type": "markdown",
   "metadata": {},
   "source": [
    "python es uno de los lenguajes de programacion mas potentes y populares. Como hemos visto hasta el dia de hoy se puede utilizar de muchas formas. Entre una de estas formas , se inlcluyen la deteccion de idiomas.Es aqui en donde entran los algoritmos de PLN.\n",
    "\n",
    "Los algoritmos de PLN tienen que modificarse para diferentes corpus y de acuerdo con la gramatica de diferentes idiomas.De acuerdo con el idioma que se este utilizando para realizar PLN es el software o librerias que se debe seleccionar. Por ejemplo.NLTK es la libreria de procesamiento de lenguaje natural mas utilizada para el idioma ingles de Python.Sin embargo.FreeLing es de las mejores alternativas cuando estamos trabajando con español.\n",
    "\n",
    "La eficiencia del procesamiento de lenguaje natural depende de varios factores. Un modelo con una calidad superior para el analisis de texto debe incluir lo siguiente:\n",
    "\n",
    "### 1. Extraccion de texto:\n",
    "\n",
    "El texto puede extraerse mediante una pagina o datos web. Importandolo en un formato particular, tomandolo edesde una base de dtos u a traves de una API.\n",
    "\n",
    "### 2. Identificacion de texto:\n",
    "\n",
    "Es un proceso de separacion de texto relevante o de interes del texto que nos añaden ruido al analisis.\n",
    "\n",
    "### 3. Procesamiento de lenguaje natural (PLN)\n",
    "\n",
    "Es el conjunto de algoritmos que admiten el procesamiento de diferntes idiomas o lenguajes.\n",
    "\n",
    "### 4. Aprendizaje automatico\n",
    "\n",
    "Es un paso esencial para lograr objetivos como la colaboracion, el analisis de sentimientos y la agrupacion.\n",
    "\n",
    "### Combinacion de Python y NLTK para la deteccion de lenguaje\n",
    "\n",
    "La mayoria de las personas utilizan de busqueda y redes sociales. Los cuales se muestran e diferentes lenguajes.Entre ellos español e ingles.\n",
    "\n",
    "Para lograr este proceso un texto indexado debe examinarse bien lo que da como resultado el contenido mostrado por estos motores y redes sociales.\n",
    "\n",
    "Existen muchas maneras de lograr este objetivo, la forma mas facil de hacerlo es mediante el enfoque basado en 'stop words'\n",
    "\n",
    "\"Stopword\" se usa e el procesamiento de lenguaje natural natural para mencionar palabras que se deben filtrar del texto antes de que tenga lugar cualquier tipo de procesamiento.\n",
    "\n",
    "Ahora tenemos un texto para detectar el idioma. El paso basico es Tokenizar el texto dado una lista de \"palabrsas\" y \"tokens\" utilizando un enfoque que depende de los requerimientos.\n",
    "\n",
    "### El siguiente ejemplo de deteccion de lenguaje utiliza NLTK y Python:\n"
   ]
  },
  {
   "cell_type": "code",
   "execution_count": 16,
   "metadata": {},
   "outputs": [
    {
     "name": "stdout",
     "output_type": "stream",
     "text": [
      "Cadena de texto:Hello my name is Uriel Alvarez\t Lenguaje: english\n",
      "\n",
      "Cadena de texto:Hola mi nombre es Uriel Alvarez\t Lenguaje: spanish\n",
      "\n",
      "Cadena de texto:Bonjour mon nom est Uriel Alvarez\t Lenguaje: french\n",
      "\n",
      "Cadena de texto:Hallo Mein Name ist Uriel Alvarez\t Lenguaje: german\n"
     ]
    }
   ],
   "source": [
    "from nltk import *\n",
    "from nltk.corpus import *\n",
    "\n",
    "def lang_ratio(input):\n",
    "    lang_ratio = {}\n",
    "    tokens = wordpunct_tokenize(input)\n",
    "    words = [word.lower() for word in tokens]\n",
    "    for language in stopwords.fileids():\n",
    "        stopwords_set = set(stopwords.words(language))\n",
    "        words_set = set(words)\n",
    "        common_elements = words_set.intersection(stopwords_set)\n",
    "        lang_ratio[language] = len(common_elements)\n",
    "    return lang_ratio\n",
    "# Funcion que detecta el lenguaje\n",
    "def detect_language(input):\n",
    "    ratios = lang_ratio(input)\n",
    "    language = max(ratios, key=ratios.get)\n",
    "    return language\n",
    "\n",
    "input1 = \"Hello my name is Uriel Alvarez\"\n",
    "input2 = \"Hola mi nombre es Uriel Alvarez\"\n",
    "input3 = \"Bonjour mon nom est Uriel Alvarez\"\n",
    "input4 = \"Hallo Mein Name ist Uriel Alvarez\"\n",
    "\n",
    "language = detect_language(input1)\n",
    "print ('Cadena de texto:'+ input1 + '\\t Lenguaje: ' + language)\n",
    "\n",
    "language =detect_language(input2)\n",
    "print ('\\n' + 'Cadena de texto:'+ input2 + '\\t Lenguaje: ' + language)\n",
    "\n",
    "language =detect_language(input3)\n",
    "print ('\\n' + 'Cadena de texto:'+ input3 + '\\t Lenguaje: ' + language)\n",
    "\n",
    "language =detect_language(input4)\n",
    "print ('\\n' + 'Cadena de texto:'+ input4 + '\\t Lenguaje: ' + language)"
   ]
  },
  {
   "cell_type": "code",
   "execution_count": null,
   "metadata": {},
   "outputs": [],
   "source": []
  }
 ],
 "metadata": {
  "kernelspec": {
   "display_name": "Python 3",
   "language": "python",
   "name": "python3"
  },
  "language_info": {
   "codemirror_mode": {
    "name": "ipython",
    "version": 3
   },
   "file_extension": ".py",
   "mimetype": "text/x-python",
   "name": "python",
   "nbconvert_exporter": "python",
   "pygments_lexer": "ipython3",
   "version": "3.7.6"
  }
 },
 "nbformat": 4,
 "nbformat_minor": 4
}
